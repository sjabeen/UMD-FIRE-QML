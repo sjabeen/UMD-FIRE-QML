{
 "cells": [
  {
   "cell_type": "code",
   "execution_count": 1,
   "metadata": {
    "collapsed": false
   },
   "outputs": [
    {
     "name": "stdout",
     "output_type": "stream",
     "text": [
      "Welcome to JupyROOT 6.10/05\n"
     ]
    }
   ],
   "source": [
    "import ROOT\n",
    "from IPython.display import display, Math, Latex\n",
    "import rootnotes\n",
    "\n"
   ]
  },
  {
   "cell_type": "markdown",
   "metadata": {},
   "source": [
    "## Import Samples"
   ]
  },
  {
   "cell_type": "code",
   "execution_count": 2,
   "metadata": {
    "collapsed": false
   },
   "outputs": [
    {
     "name": "stdout",
     "output_type": "stream",
     "text": [
      "-------------------------------------\n",
      " LOAD CROSS SECTION INFO\n",
      "-------------------------------------\n",
      "Sample GJets_HT-600ToInf              cross section : 93.380000 pb     N Events : 2463946  sample lumi : 26386.228314      Scale : 1.360558      \n",
      "Sample WZ3LNLO                        cross section : 5.260000 pb      N Events : 8260201  sample lumi : 1570380.418251    Scale : 0.022861      \n",
      "Sample WJetsToLNu_HT-800To1200        cross section : 7.484300 pb      N Events : 1544513  sample lumi : 206367.061716     Scale : 0.173962      \n",
      "Sample WJetsToLNu_HT-600To800         cross section : 16.288000 pb     N Events : 3779141  sample lumi : 232019.953340     Scale : 0.154728      \n",
      "Sample GJets_HT-100To200              cross section : 9226.000000 pb   N Events : 5131873  sample lumi : 556.240299        Scale : 64.540451     \n",
      "Sample ResonanceMass2000              cross section : 0.000172 pb      N Events : 50000    sample lumi : 289872165.921251  Scale : 0.000124      \n",
      "Sample TTJets_SingleLeptFromTbar      cross section : 178.695240 pb    N Events : 46455353 sample lumi : 259969.728349     Scale : 0.138093      \n",
      "Sample GJets_HT-40To100               cross section : 20730.000000 pb  N Events : 4467985  sample lumi : 215.532320        Scale : 166.564346    \n",
      "Sample ResonanceMass1000              cross section : 0.000748 pb      N Events : 50000    sample lumi : 66872213.800370   Scale : 0.000537      \n",
      "Sample DiPhoton                       cross section : 248.000000 pb    N Events : 19410854 sample lumi : 78269.572581      Scale : 0.458671      \n",
      "Sample WW                             cross section : 12.178000 pb     N Events : 1965200  sample lumi : 161372.967647     Scale : 0.222466      \n",
      "Sample ResonanceMass900               cross section : 0.001131 pb      N Events : 50000    sample lumi : 44189985.377309   Scale : 0.000812      \n",
      "Sample ResonanceMass1800              cross section : 0.000252 pb      N Events : 50000    sample lumi : 198492147.378218  Scale : 0.000181      \n",
      "Sample STsCh                          cross section : 10.320000 pb     N Events : 984400   sample lumi : 95387.596899      Scale : 0.376359      \n",
      "Sample WJetsToLNu_HT-200To400         cross section : 427.750000 pb    N Events : 4950373  sample lumi : 11573.052016      Scale : 3.102034      \n",
      "Sample GJets_HT-400To600              cross section : 277.400000 pb    N Events : 2529729  sample lumi : 9119.426820       Scale : 3.936651      \n",
      "Sample ResonanceMass1600              cross section : 0.000054 pb      N Events : 50000    sample lumi : 921919878.632621  Scale : 0.000039      \n",
      "Sample ResonanceMass3500              cross section : 0.000023 pb      N Events : 50000    sample lumi : 2171180458.704779 Scale : 0.000017      \n",
      "Sample ResonanceMass3000              cross section : 0.000071 pb      N Events : 50000    sample lumi : 702045867.733810  Scale : 0.000051      \n",
      "Sample WJetsToLNu_HT-100To200         cross section : 1325.300000 pb   N Events : 10235198 sample lumi : 7722.929148       Scale : 4.648495      \n",
      "Sample TTJets_DiLept                  cross section : 85.675800 pb     N Events : 6094476  sample lumi : 71134.159237      Scale : 0.504680      \n",
      "Sample ResonanceMass2600              cross section : 0.000230 pb      N Events : 50000    sample lumi : 217459157.815754  Scale : 0.000165      \n",
      "Sample TTGJets                        cross section : 3.697000 pb      N Events : 1577833  sample lumi : 426787.395185     Scale : 0.084117      \n",
      "Sample ResonanceMass250               cross section : 0.007727 pb      N Events : 50000    sample lumi : 6470981.620565    Scale : 0.005548      \n",
      "Sample DYJetsToLL_M-50                cross section : 5765.400000 pb   N Events : 49144274 sample lumi : 8524.000763       Scale : 4.211637      \n",
      "Sample ResonanceMass200               cross section : 0.021927 pb      N Events : 50000    sample lumi : 2280285.019677    Scale : 0.015744      \n",
      "Sample ST_TbarW                       cross section : 35.600000 pb     N Events : 988500   sample lumi : 27766.853933      Scale : 1.292908      \n",
      "Sample ResonanceMass2800              cross section : 0.000136 pb      N Events : 50000    sample lumi : 368730327.867798  Scale : 0.000097      \n",
      "Sample ResonanceMass800               cross section : 0.003731 pb      N Events : 50000    sample lumi : 13401749.746133   Scale : 0.002679      \n",
      "Sample WJetsToLNu_Pt-100To250         cross section : 676.300000 pb    N Events : 3644567  sample lumi : 5388.979743       Scale : 6.661743      \n",
      "Sample ResonanceMass400               cross section : 0.000679 pb      N Events : 50000    sample lumi : 73597866.125772   Scale : 0.000488      \n",
      "Sample ResonanceMass600               cross section : 0.000950 pb      N Events : 50000    sample lumi : 52607719.150343   Scale : 0.000682      \n",
      "Sample ResonanceMass1200              cross section : 0.000262 pb      N Events : 50000    sample lumi : 190544158.637693  Scale : 0.000188      \n",
      "Sample ZZ                             cross section : 16.523000 pb     N Events : 996944   sample lumi : 60336.742722      Scale : 0.594994      \n",
      "Sample TTbar                          cross section : 831.760000 pb    N Events : 96584653 sample lumi : 116120.819708     Scale : 0.309161      \n",
      "Sample ResonanceMass450               cross section : 0.004289 pb      N Events : 50000    sample lumi : 11657295.443169   Scale : 0.003080      \n",
      "Sample WGToLNuG-madgraphMLM           cross section : 405.271000 pb    N Events : 6103817  sample lumi : 15061.075182      Scale : 2.383628      \n",
      "Sample ResonanceMass700               cross section : 0.000472 pb      N Events : 50000    sample lumi : 106017642.232250  Scale : 0.000339      \n",
      "Sample DiPhoton_M80toInf              cross section : 84.000000 pb     N Events : 13200226 sample lumi : 157145.547619     Scale : 0.228451      \n",
      "Sample Wg                             cross section : 505.800000 pb    N Events : 2183649  sample lumi : 4317.218268       Scale : 8.315540      \n",
      "Sample WJetsToLNu_HT-1200To2500       cross section : 1.793700 pb      N Events : 244532   sample lumi : 136328.260021     Scale : 0.263335      \n",
      "Sample ResonanceMass2400              cross section : 0.000047 pb      N Events : 50000    sample lumi : 1067546717.661317 Scale : 0.000034      \n",
      "Sample WJetsToLNu-amcatnloFXFX        cross section : 61526.700000 pb  N Events : 12965572 sample lumi : 210.730821        Scale : 170.359513    \n",
      "Sample WGToLNuG_PtG-130-amcatnloFXFX  cross section : 2.024770 pb      N Events : 841701   sample lumi : 415702.030354     Scale : 0.086360      \n",
      "Sample ST_TW                          cross section : 35.600000 pb     N Events : 995600   sample lumi : 27966.292135      Scale : 1.283688      \n",
      "Sample ResonanceMass500               cross section : 0.002420 pb      N Events : 50000    sample lumi : 20659724.443783   Scale : 0.001738      \n",
      "Sample ResonanceMass1400              cross section : 0.000117 pb      N Events : 50000    sample lumi : 427134758.595957  Scale : 0.000084      \n",
      "Sample ResonanceMass2200              cross section : 0.000060 pb      N Events : 50000    sample lumi : 834496509.416968  Scale : 0.000043      \n",
      "Sample WGToLNuG_PtG-500-amcatnloFXFX  cross section : 0.017700 pb      N Events : 827560   sample lumi : 46755351.701308   Scale : 0.000768      \n",
      "Sample WJetsToLNu-madgraphMLM         cross section : 61526.700000 pb  N Events : 29705748 sample lumi : 482.810682        Scale : 74.356267     \n",
      "Sample WGToLNuG_PtG-500-madgraphMLM   cross section : 0.008488 pb      N Events : 1393505  sample lumi : 164176169.646451  Scale : 0.000219      \n",
      "Sample WWTo2L2Nu                      cross section : 12.177665 pb     N Events : 1        sample lumi : 0.082118          Scale : 437178.162538 \n",
      "Sample WGToLNuG_PtG-130-madgraphMLM   cross section : 0.795147 pb      N Events : 1645059  sample lumi : 2068874.057250    Scale : 0.017352      \n",
      "Sample TTJets_SingleLeptFromT         cross section : 178.695240 pb    N Events : 11957043 sample lumi : 66913.047040      Scale : 0.536517      \n",
      "Sample GJets                          cross section : 693300.000000 pb N Events : 1972730  sample lumi : 2.845420          Scale : 12616.764585  \n",
      "Sample STtCh                          cross section : 70.690000 pb     N Events : 1        sample lumi : 0.014146          Scale : 2537771.000000\n",
      "Sample Zg                             cross section : 124.500000 pb    N Events : 3044343  sample lumi : 24452.554217      Scale : 1.468149      \n",
      "Sample DiPhoton_M40_80                cross section : 210.000000 pb    N Events : 4878862  sample lumi : 23232.676190      Scale : 1.545237      \n",
      "Sample ZGTo2LG                        cross section : 117.864000 pb    N Events : 9321494  sample lumi : 79086.862825      Scale : 0.453931      \n",
      "Sample GJets_HT-200To400              cross section : 2300.000000 pb   N Events : 10036487 sample lumi : 4363.690000       Scale : 8.226982      \n",
      "Sample WWG                            cross section : 0.214700 pb      N Events : 827630   sample lumi : 3854820.680019    Scale : 0.009313      \n",
      "Sample WJetsToLNu_HT-2500ToInf        cross section : 0.040381 pb      N Events : 253561   sample lumi : 6279215.472623    Scale : 0.005717      \n",
      "Sample WJetsToLNu_HT-400To600         cross section : 63.861000 pb     N Events : 1963464  sample lumi : 30745.901254      Scale : 1.167635      \n",
      "Sample ResonanceMass4000              cross section : 0.000023 pb      N Events : 50000    sample lumi : 2171180458.704779 Scale : 0.000017      \n",
      "Sample WgPt500                        cross section : 0.011789 pb      N Events : 1393505  sample lumi : 118206842.145444  Scale : 0.000304      \n",
      "Sample WGToLNuG-amcatnloFXFX          cross section : 821.700000 pb    N Events : 3235156  sample lumi : 3937.149811       Scale : 9.118271      \n",
      "Sample ResonanceMass300               cross section : 0.003073 pb      N Events : 50000    sample lumi : 16272039.260770   Scale : 0.002206      \n",
      "Sample ResonanceMass350               cross section : 0.001470 pb      N Events : 50000    sample lumi : 34021804.710309   Scale : 0.001055      \n",
      "-------------------------------------\n",
      "BEGIN READING SAMPLES\n",
      "-------------------------------------\n",
      "AddSample: Reading SingleMuon (['SingleMuon'])               [ \u001b[1;31mFailed\u001b[0m  ]\n",
      "AddSample: Reading SingleElectron (['SingleElectron'])       [ \u001b[1;32mSuccess\u001b[0m ]\n",
      "Update scale for DYJetsToLL_M-50\n",
      "AddSample: Reading DYJetsToLL_M-50 (['DYJetsToLL_M-50_TuneCUETP8M1_13TeV-madgraphMLM-pythia8'])  [ \u001b[1;32mSuccess\u001b[0m ]\n",
      "Update scale for ZGTo2LG\n",
      "AddSample: Reading ZGTo2LG (['ZGTo2LG_TuneCUETP8M1_13TeV-amcatnloFXFX-pythia8'])  [ \u001b[1;32mSuccess\u001b[0m ]\n",
      "Update scale for TTJets_DiLept\n",
      "AddSample: Reading TTJets_DiLept (['TTJets_DiLept_TuneCUETP8M1_13TeV-madgraphMLM-pythia8PhOlap'])  [ \u001b[1;32mSuccess\u001b[0m ]\n",
      "Update scale for TTJets_SingleLeptFromTbar\n",
      "AddSample: Reading TTJets_SingleLeptFromTbar (['TTJets_SingleLeptFromTbar_TuneCUETP8M1_13TeV-madgraphMLM-pythia8PhOlap'])  [ \u001b[1;32mSuccess\u001b[0m ]\n",
      "Update scale for TTJets_SingleLeptFromT\n",
      "AddSample: Reading TTJets_SingleLeptFromT (['TTJets_SingleLeptFromT_TuneCUETP8M1_13TeV-madgraphMLM-pythia8PhOlap'])  [ \u001b[1;32mSuccess\u001b[0m ]\n",
      "Update scale for TTGJets\n",
      "AddSample: Reading TTGJets (['TTGJets_TuneCUETP8M1_13TeV-amcatnloFXFX-madspin-pythia8'])  [ \u001b[1;32mSuccess\u001b[0m ]\n",
      "Update scale for WGToLNuG-amcatnloFXFX\n",
      "AddSample: Reading WGToLNuG-amcatnloFXFX (['WGToLNuG_TuneCUETP8M1_13TeV-amcatnloFXFX-pythia8'])  [ \u001b[1;32mSuccess\u001b[0m ]\n",
      "Update scale for WGToLNuG-madgraphMLM\n",
      "AddSample: Reading WGToLNuG-madgraphMLM (['WGToLNuG_TuneCUETP8M1_13TeV-madgraphMLM-pythia8'])  [ \u001b[1;32mSuccess\u001b[0m ]\n",
      "Update scale for WGToLNuG_PtG-130-amcatnloFXFX\n",
      "AddSample: Reading WGToLNuG_PtG-130-amcatnloFXFX (['WGToLNuG_PtG-130_TuneCUETP8M1_13TeV-amcatnloFXFX-pythia8'])  [ \u001b[1;32mSuccess\u001b[0m ]\n",
      "Update scale for WGToLNuG_PtG-130-madgraphMLM\n",
      "AddSample: Reading WGToLNuG_PtG-130-madgraphMLM (['WGToLNuG_PtG-130_TuneCUETP8M1_13TeV-madgraphMLM-pythia8'])  [ \u001b[1;32mSuccess\u001b[0m ]\n",
      "Update scale for WGToLNuG_PtG-500-amcatnloFXFX\n",
      "AddSample: Reading WGToLNuG_PtG-500-amcatnloFXFX (['WGToLNuG_PtG-500_TuneCUETP8M1_13TeV-amcatnloFXFX-pythia8'])  [ \u001b[1;32mSuccess\u001b[0m ]\n",
      "Update scale for WGToLNuG_PtG-500-madgraphMLM\n",
      "AddSample: Reading WGToLNuG_PtG-500-madgraphMLM (['WGToLNuG_PtG-500_TuneCUETP8M1_13TeV-madgraphMLM-pythia8'])  [ \u001b[1;32mSuccess\u001b[0m ]\n",
      "Update scale for WGToLNuG-amcatnloFXFXPhCut\n",
      "AddSample: Reading WGToLNuG-amcatnloFXFXPhCut (['WGToLNuG_TuneCUETP8M1_13TeV-amcatnloFXFX-pythia8PhCutMax'])  [ \u001b[1;32mSuccess\u001b[0m ]\n",
      "Update scale for WGToLNuG_PtG-130-amcatnloFXFXPhCut\n",
      "AddSample: Reading WGToLNuG_PtG-130-amcatnloFXFXPhCut (['WGToLNuG_PtG-130_TuneCUETP8M1_13TeV-amcatnloFXFX-pythia8PhCutMaxPhCutMin'])  [ \u001b[1;32mSuccess\u001b[0m ]\n",
      "Update scale for WGToLNuG_PtG-500-amcatnloFXFXPhCut\n",
      "AddSample: Reading WGToLNuG_PtG-500-amcatnloFXFXPhCut (['WGToLNuG_PtG-500_TuneCUETP8M1_13TeV-amcatnloFXFX-pythia8PhCutMin'])  [ \u001b[1;32mSuccess\u001b[0m ]\n",
      "Update scale for WGToLNuG-madgraphMLMPhCut\n",
      "AddSample: Reading WGToLNuG-madgraphMLMPhCut (['WGToLNuG_TuneCUETP8M1_13TeV-madgraphMLM-pythia8PhCutMax'])  [ \u001b[1;32mSuccess\u001b[0m ]\n",
      "Update scale for WGToLNuG_PtG-130-madgraphMLMPhCut\n",
      "AddSample: Reading WGToLNuG_PtG-130-madgraphMLMPhCut (['WGToLNuG_PtG-130_TuneCUETP8M1_13TeV-madgraphMLM-pythia8PhCutMaxPhCutMin'])  [ \u001b[1;32mSuccess\u001b[0m ]\n",
      "Update scale for WGToLNuG_PtG-500-madgraphMLMPhCut\n",
      "AddSample: Reading WGToLNuG_PtG-500-madgraphMLMPhCut (['WGToLNuG_PtG-500_TuneCUETP8M1_13TeV-madgraphMLM-pythia8PhCutMin'])  [ \u001b[1;32mSuccess\u001b[0m ]\n",
      "Update scale for WGToLNuG-madgraphMLMMTResCut\n",
      "AddSample: Reading WGToLNuG-madgraphMLMMTResCut (['WGToLNuG_TuneCUETP8M1_13TeV-madgraphMLM-pythia8'])  [ \u001b[1;32mSuccess\u001b[0m ]\n",
      "Update scale for WGToLNuG_PtG-130-madgraphMLMMTResCut\n",
      "AddSample: Reading WGToLNuG_PtG-130-madgraphMLMMTResCut (['WGToLNuG_PtG-130_TuneCUETP8M1_13TeV-madgraphMLM-pythia8'])  [ \u001b[1;32mSuccess\u001b[0m ]\n",
      "Update scale for WGToLNuG_PtG-500-madgraphMLMMTResCut\n",
      "AddSample: Reading WGToLNuG_PtG-500-madgraphMLMMTResCut (['WGToLNuG_PtG-500_TuneCUETP8M1_13TeV-madgraphMLM-pythia8'])  [ \u001b[1;32mSuccess\u001b[0m ]\n",
      "Update scale for WJetsToLNu-madgraphMLM\n",
      "AddSample: Reading WJetsToLNu-madgraphMLM (['WJetsToLNu_TuneCUETP8M1_13TeV-madgraphMLM-pythia8'])  [ \u001b[1;32mSuccess\u001b[0m ]\n",
      "AddSample: Reading WWG (['WWG_TuneCUETP8M1_13TeV-amcatnlo-pythia8'])  [ \u001b[1;31mFailed\u001b[0m  ]\n",
      "Update scale for DiPhoton\n",
      "AddSample: Reading DiPhoton (['DiPhotonJets_MGG-80toInf_13TeV_amcatnloFXFX_pythia8'])  [ \u001b[1;32mSuccess\u001b[0m ]\n",
      "Update scale for WJetsToLNuTrueHTOlap\n",
      "AddSample: Reading WJetsToLNuTrueHTOlap (['WJetsToLNu_TuneCUETP8M1_13TeV-madgraphMLM-pythia8TrueHTOlapPhOlap'])  [ \u001b[1;32mSuccess\u001b[0m ]\n",
      "Update scale for WJetsToLNu_HT-100To200\n",
      "AddSample: Reading WJetsToLNu_HT-100To200 (['WJetsToLNu_HT-100To200_TuneCUETP8M1_13TeV-madgraphMLM-pythia8PhOlap'])  [ \u001b[1;32mSuccess\u001b[0m ]\n",
      "Update scale for WJetsToLNu_HT-200To400\n",
      "AddSample: Reading WJetsToLNu_HT-200To400 (['WJetsToLNu_HT-200To400_TuneCUETP8M1_13TeV-madgraphMLM-pythia8PhOlap'])  [ \u001b[1;32mSuccess\u001b[0m ]\n",
      "Update scale for WJetsToLNu_HT-400To600\n",
      "AddSample: Reading WJetsToLNu_HT-400To600 (['WJetsToLNu_HT-400To600_TuneCUETP8M1_13TeV-madgraphMLM-pythia8PhOlap'])  [ \u001b[1;32mSuccess\u001b[0m ]\n",
      "Update scale for WJetsToLNu_HT-600To800\n",
      "AddSample: Reading WJetsToLNu_HT-600To800 (['WJetsToLNu_HT-600To800_TuneCUETP8M1_13TeV-madgraphMLM-pythia8PhOlap'])  [ \u001b[1;32mSuccess\u001b[0m ]\n",
      "Update scale for WJetsToLNu_HT-800To1200\n",
      "AddSample: Reading WJetsToLNu_HT-800To1200 (['WJetsToLNu_HT-800To1200_TuneCUETP8M1_13TeV-madgraphMLM-pythia8PhOlap'])  [ \u001b[1;32mSuccess\u001b[0m ]\n",
      "Update scale for WJetsToLNu_HT-1200To2500\n",
      "AddSample: Reading WJetsToLNu_HT-1200To2500 (['WJetsToLNu_HT-1200To2500_TuneCUETP8M1_13TeV-madgraphMLM-pythia8PhOlap'])  [ \u001b[1;32mSuccess\u001b[0m ]\n",
      "Update scale for WJetsToLNu_HT-2500ToInf\n",
      "AddSample: Reading WJetsToLNu_HT-2500ToInf (['WJetsToLNu_HT-2500ToInf_TuneCUETP8M1_13TeV-madgraphMLM-pythia8PhOlap'])  [ \u001b[1;32mSuccess\u001b[0m ]\n",
      "Update scale for GJets_HT-100To200\n",
      "AddSample: Reading GJets_HT-100To200 (['GJets_HT-100To200_TuneCUETP8M1_13TeV-madgraphMLM-pythia8'])  [ \u001b[1;32mSuccess\u001b[0m ]\n",
      "Update scale for GJets_HT-200To400\n",
      "AddSample: Reading GJets_HT-200To400 (['GJets_HT-200To400_TuneCUETP8M1_13TeV-madgraphMLM-pythia8'])  [ \u001b[1;32mSuccess\u001b[0m ]\n",
      "Update scale for GJets_HT-400To600\n",
      "AddSample: Reading GJets_HT-400To600 (['GJets_HT-400To600_TuneCUETP8M1_13TeV-madgraphMLM-pythia8'])  [ \u001b[1;32mSuccess\u001b[0m ]\n",
      "Update scale for GJets_HT-40To100\n",
      "AddSample: Reading GJets_HT-40To100 (['GJets_HT-40To100_TuneCUETP8M1_13TeV-madgraphMLM-pythia8'])  [ \u001b[1;32mSuccess\u001b[0m ]\n",
      "Update scale for GJets_HT-600ToInf\n",
      "AddSample: Reading GJets_HT-600ToInf (['GJets_HT-600ToInf_TuneCUETP8M1_13TeV-madgraphMLM-pythia8'])  [ \u001b[1;32mSuccess\u001b[0m ]\n",
      "AddSample: Reading MadGraphResonanceMass200_width0p01 (['MadGraphChargedResonance_WGToLNu_M200_width0p01'])  [ \u001b[1;31mFailed\u001b[0m  ]\n",
      "AddSample: Reading MadGraphResonanceMass200_width5 (['MadGraphChargedResonance_WGToLNu_M200_width5'])  [ \u001b[1;31mFailed\u001b[0m  ]\n",
      "AddSample: Reading MadGraphResonanceMass250_width0p01 (['MadGraphChargedResonance_WGToLNu_M250_width0p01'])  [ \u001b[1;31mFailed\u001b[0m  ]\n",
      "AddSample: Reading MadGraphResonanceMass250_width5 (['MadGraphChargedResonance_WGToLNu_M250_width5'])  [ \u001b[1;31mFailed\u001b[0m  ]\n",
      "AddSample: Reading MadGraphResonanceMass300_width0p01 (['MadGraphChargedResonance_WGToLNu_M300_width0p01'])  [ \u001b[1;31mFailed\u001b[0m  ]\n",
      "AddSample: Reading MadGraphResonanceMass300_width5 (['MadGraphChargedResonance_WGToLNu_M300_width5'])  [ \u001b[1;31mFailed\u001b[0m  ]\n",
      "AddSample: Reading MadGraphResonanceMass350_width0p01 (['MadGraphChargedResonance_WGToLNu_M350_width0p01'])  [ \u001b[1;31mFailed\u001b[0m  ]\n",
      "AddSample: Reading MadGraphResonanceMass350_width5 (['MadGraphChargedResonance_WGToLNu_M350_width5'])  [ \u001b[1;31mFailed\u001b[0m  ]\n",
      "AddSample: Reading MadGraphResonanceMass400_width0p01 (['MadGraphChargedResonance_WGToLNu_M400_width0p01'])  [ \u001b[1;31mFailed\u001b[0m  ]\n",
      "AddSample: Reading MadGraphResonanceMass400_width5 (['MadGraphChargedResonance_WGToLNu_M400_width5'])  [ \u001b[1;31mFailed\u001b[0m  ]\n",
      "AddSample: Reading MadGraphResonanceMass450_width0p01 (['MadGraphChargedResonance_WGToLNu_M450_width0p01'])  [ \u001b[1;31mFailed\u001b[0m  ]\n",
      "AddSample: Reading MadGraphResonanceMass450_width5 (['MadGraphChargedResonance_WGToLNu_M450_width5'])  [ \u001b[1;31mFailed\u001b[0m  ]\n",
      "AddSample: Reading MadGraphResonanceMass500_width0p01 (['MadGraphChargedResonance_WGToLNu_M500_width0p01'])  [ \u001b[1;31mFailed\u001b[0m  ]\n",
      "AddSample: Reading MadGraphResonanceMass500_width5 (['MadGraphChargedResonance_WGToLNu_M500_width5'])  [ \u001b[1;31mFailed\u001b[0m  ]\n",
      "AddSample: Reading MadGraphResonanceMass600_width0p01 (['MadGraphChargedResonance_WGToLNu_M600_width0p01'])  [ \u001b[1;31mFailed\u001b[0m  ]\n",
      "AddSample: Reading MadGraphResonanceMass600_width5 (['MadGraphChargedResonance_WGToLNu_M600_width5'])  [ \u001b[1;31mFailed\u001b[0m  ]\n",
      "AddSample: Reading MadGraphResonanceMass700_width0p01 (['MadGraphChargedResonance_WGToLNu_M700_width0p01'])  [ \u001b[1;31mFailed\u001b[0m  ]\n",
      "AddSample: Reading MadGraphResonanceMass700_width5 (['MadGraphChargedResonance_WGToLNu_M700_width5'])  [ \u001b[1;31mFailed\u001b[0m  ]\n",
      "AddSample: Reading MadGraphResonanceMass800_width0p01 (['MadGraphChargedResonance_WGToLNu_M800_width0p01'])  [ \u001b[1;31mFailed\u001b[0m  ]\n",
      "AddSample: Reading MadGraphResonanceMass800_width5 (['MadGraphChargedResonance_WGToLNu_M800_width5'])  [ \u001b[1;31mFailed\u001b[0m  ]\n",
      "AddSample: Reading MadGraphResonanceMass900_width0p01 (['MadGraphChargedResonance_WGToLNu_M900_width0p01'])  [ \u001b[1;31mFailed\u001b[0m  ]\n",
      "AddSample: Reading MadGraphResonanceMass900_width5 (['MadGraphChargedResonance_WGToLNu_M900_width5'])  [ \u001b[1;31mFailed\u001b[0m  ]\n",
      "AddSample: Reading MadGraphResonanceMass1000_width0p01 (['MadGraphChargedResonance_WGToLNu_M1000_width0p01'])  [ \u001b[1;31mFailed\u001b[0m  ]\n",
      "AddSample: Reading MadGraphResonanceMass1000_width5 (['MadGraphChargedResonance_WGToLNu_M1000_width5'])  [ \u001b[1;31mFailed\u001b[0m  ]\n",
      "AddSample: Reading MadGraphResonanceMass1200_width0p01 (['MadGraphChargedResonance_WGToLNu_M1200_width0p01'])  [ \u001b[1;31mFailed\u001b[0m  ]\n",
      "AddSample: Reading MadGraphResonanceMass1200_width5 (['MadGraphChargedResonance_WGToLNu_M1200_width5'])  [ \u001b[1;31mFailed\u001b[0m  ]\n",
      "AddSample: Reading MadGraphResonanceMass1400_width0p01 (['MadGraphChargedResonance_WGToLNu_M1400_width0p01'])  [ \u001b[1;31mFailed\u001b[0m  ]\n",
      "AddSample: Reading MadGraphResonanceMass1400_width5 (['MadGraphChargedResonance_WGToLNu_M1400_width5'])  [ \u001b[1;31mFailed\u001b[0m  ]\n",
      "AddSample: Reading MadGraphResonanceMass1600_width0p01 (['MadGraphChargedResonance_WGToLNu_M1600_width0p01'])  [ \u001b[1;31mFailed\u001b[0m  ]\n",
      "AddSample: Reading MadGraphResonanceMass1600_width5 (['MadGraphChargedResonance_WGToLNu_M1600_width5'])  [ \u001b[1;31mFailed\u001b[0m  ]\n",
      "AddSample: Reading MadGraphResonanceMass1800_width0p01 (['MadGraphChargedResonance_WGToLNu_M1800_width0p01'])  [ \u001b[1;31mFailed\u001b[0m  ]\n",
      "AddSample: Reading MadGraphResonanceMass1800_width5 (['MadGraphChargedResonance_WGToLNu_M1800_width5'])  [ \u001b[1;31mFailed\u001b[0m  ]\n",
      "AddSample: Reading MadGraphResonanceMass2000_width0p01 (['MadGraphChargedResonance_WGToLNu_M2000_width0p01'])  [ \u001b[1;31mFailed\u001b[0m  ]\n",
      "AddSample: Reading MadGraphResonanceMass2000_width5 (['MadGraphChargedResonance_WGToLNu_M2000_width5'])  [ \u001b[1;31mFailed\u001b[0m  ]\n",
      "AddSample: Reading MadGraphResonanceMass2200_width0p01 (['MadGraphChargedResonance_WGToLNu_M2200_width0p01'])  [ \u001b[1;31mFailed\u001b[0m  ]\n",
      "AddSample: Reading MadGraphResonanceMass2200_width5 (['MadGraphChargedResonance_WGToLNu_M2200_width5'])  [ \u001b[1;31mFailed\u001b[0m  ]\n",
      "AddSample: Reading MadGraphResonanceMass2400_width0p01 (['MadGraphChargedResonance_WGToLNu_M2400_width0p01'])  [ \u001b[1;31mFailed\u001b[0m  ]\n",
      "AddSample: Reading MadGraphResonanceMass2400_width5 (['MadGraphChargedResonance_WGToLNu_M2400_width5'])  [ \u001b[1;31mFailed\u001b[0m  ]\n",
      "AddSample: Reading MadGraphResonanceMass2600_width0p01 (['MadGraphChargedResonance_WGToLNu_M2600_width0p01'])  [ \u001b[1;31mFailed\u001b[0m  ]\n",
      "AddSample: Reading MadGraphResonanceMass2800_width0p01 (['MadGraphChargedResonance_WGToLNu_M2800_width0p01'])  [ \u001b[1;31mFailed\u001b[0m  ]\n",
      "AddSample: Reading MadGraphResonanceMass2800_width5 (['MadGraphChargedResonance_WGToLNu_M2800_width5'])  [ \u001b[1;31mFailed\u001b[0m  ]\n",
      "AddSample: Reading MadGraphResonanceMass3000_width0p01 (['MadGraphChargedResonance_WGToLNu_M3000_width0p01'])  [ \u001b[1;31mFailed\u001b[0m  ]\n",
      "AddSample: Reading MadGraphResonanceMass3500_width0p01 (['MadGraphChargedResonance_WGToLNu_M3500_width0p01'])  [ \u001b[1;31mFailed\u001b[0m  ]\n",
      "AddSample: Reading MadGraphResonanceMass3500_width5 (['MadGraphChargedResonance_WGToLNu_M3500_width5'])  [ \u001b[1;31mFailed\u001b[0m  ]\n",
      "AddSample: Reading MadGraphResonanceMass4000_width0p01 (['MadGraphChargedResonance_WGToLNu_M4000_width0p01'])  [ \u001b[1;31mFailed\u001b[0m  ]\n",
      "AddSample: Reading MadGraphResonanceMass4000_width5 (['MadGraphChargedResonance_WGToLNu_M4000_width5'])  [ \u001b[1;31mFailed\u001b[0m  ]\n",
      "AddSample: Reading PythiaResonanceMass200_width0p01 (['PythiaChargedResonance_WGToLNu_M200_width0p01'])  [ \u001b[1;31mFailed\u001b[0m  ]\n",
      "AddSample: Reading PythiaResonanceMass200_width5 (['PythiaChargedResonance_WGToLNu_M200_width5'])  [ \u001b[1;31mFailed\u001b[0m  ]\n",
      "AddSample: Reading PythiaResonanceMass250_width0p01 (['PythiaChargedResonance_WGToLNu_M250_width0p01'])  [ \u001b[1;31mFailed\u001b[0m  ]\n",
      "AddSample: Reading PythiaResonanceMass250_width5 (['PythiaChargedResonance_WGToLNu_M250_width5'])  [ \u001b[1;31mFailed\u001b[0m  ]\n",
      "AddSample: Reading PythiaResonanceMass300_width0p01 (['PythiaChargedResonance_WGToLNu_M300_width0p01'])  [ \u001b[1;31mFailed\u001b[0m  ]\n",
      "AddSample: Reading PythiaResonanceMass300_width5 (['PythiaChargedResonance_WGToLNu_M300_width5'])  [ \u001b[1;31mFailed\u001b[0m  ]\n",
      "AddSample: Reading PythiaResonanceMass350_width0p01 (['PythiaChargedResonance_WGToLNu_M350_width0p01'])  [ \u001b[1;31mFailed\u001b[0m  ]\n",
      "AddSample: Reading PythiaResonanceMass350_width5 (['PythiaChargedResonance_WGToLNu_M350_width5'])  [ \u001b[1;31mFailed\u001b[0m  ]\n",
      "AddSample: Reading PythiaResonanceMass400_width0p01 (['PythiaChargedResonance_WGToLNu_M400_width0p01'])  [ \u001b[1;31mFailed\u001b[0m  ]\n",
      "AddSample: Reading PythiaResonanceMass400_width5 (['PythiaChargedResonance_WGToLNu_M400_width5'])  [ \u001b[1;31mFailed\u001b[0m  ]\n",
      "AddSample: Reading PythiaResonanceMass450_width0p01 (['PythiaChargedResonance_WGToLNu_M450_width0p01'])  [ \u001b[1;31mFailed\u001b[0m  ]\n",
      "AddSample: Reading PythiaResonanceMass450_width5 (['PythiaChargedResonance_WGToLNu_M450_width5'])  [ \u001b[1;31mFailed\u001b[0m  ]\n",
      "AddSample: Reading PythiaResonanceMass500_width0p01 (['PythiaChargedResonance_WGToLNu_M500_width0p01'])  [ \u001b[1;31mFailed\u001b[0m  ]\n",
      "AddSample: Reading PythiaResonanceMass500_width5 (['PythiaChargedResonance_WGToLNu_M500_width5'])  [ \u001b[1;31mFailed\u001b[0m  ]\n",
      "AddSample: Reading PythiaResonanceMass600_width0p01 (['PythiaChargedResonance_WGToLNu_M600_width0p01'])  [ \u001b[1;31mFailed\u001b[0m  ]\n",
      "AddSample: Reading PythiaResonanceMass600_width5 (['PythiaChargedResonance_WGToLNu_M600_width5'])  [ \u001b[1;31mFailed\u001b[0m  ]\n",
      "AddSample: Reading PythiaResonanceMass700_width0p01 (['PythiaChargedResonance_WGToLNu_M700_width0p01'])  [ \u001b[1;31mFailed\u001b[0m  ]\n",
      "AddSample: Reading PythiaResonanceMass700_width5 (['PythiaChargedResonance_WGToLNu_M700_width5'])  [ \u001b[1;31mFailed\u001b[0m  ]\n",
      "AddSample: Reading PythiaResonanceMass800_width0p01 (['PythiaChargedResonance_WGToLNu_M800_width0p01'])  [ \u001b[1;31mFailed\u001b[0m  ]\n",
      "AddSample: Reading PythiaResonanceMass800_width5 (['PythiaChargedResonance_WGToLNu_M800_width5'])  [ \u001b[1;31mFailed\u001b[0m  ]\n",
      "AddSample: Reading PythiaResonanceMass900_width0p01 (['PythiaChargedResonance_WGToLNu_M900_width0p01'])  [ \u001b[1;31mFailed\u001b[0m  ]\n",
      "AddSample: Reading PythiaResonanceMass900_width5 (['PythiaChargedResonance_WGToLNu_M900_width5'])  [ \u001b[1;31mFailed\u001b[0m  ]\n",
      "AddSample: Reading PythiaResonanceMass1000_width0p01 (['PythiaChargedResonance_WGToLNu_M1000_width0p01'])  [ \u001b[1;31mFailed\u001b[0m  ]\n",
      "AddSample: Reading PythiaResonanceMass1000_width5 (['PythiaChargedResonance_WGToLNu_M1000_width5'])  [ \u001b[1;31mFailed\u001b[0m  ]\n",
      "AddSample: Reading PythiaResonanceMass1200_width0p01 (['PythiaChargedResonance_WGToLNu_M1200_width0p01'])  [ \u001b[1;31mFailed\u001b[0m  ]\n",
      "AddSample: Reading PythiaResonanceMass1200_width5 (['PythiaChargedResonance_WGToLNu_M1200_width5'])  [ \u001b[1;31mFailed\u001b[0m  ]\n",
      "AddSample: Reading PythiaResonanceMass1400_width0p01 (['PythiaChargedResonance_WGToLNu_M1400_width0p01'])  [ \u001b[1;31mFailed\u001b[0m  ]\n",
      "AddSample: Reading PythiaResonanceMass1400_width5 (['PythiaChargedResonance_WGToLNu_M1400_width5'])  [ \u001b[1;31mFailed\u001b[0m  ]\n",
      "AddSample: Reading PythiaResonanceMass1600_width0p01 (['PythiaChargedResonance_WGToLNu_M1600_width0p01'])  [ \u001b[1;31mFailed\u001b[0m  ]\n",
      "AddSample: Reading PythiaResonanceMass1600_width5 (['PythiaChargedResonance_WGToLNu_M1600_width5'])  [ \u001b[1;31mFailed\u001b[0m  ]\n",
      "AddSample: Reading PythiaResonanceMass1800_width0p01 (['PythiaChargedResonance_WGToLNu_M1800_width0p01'])  [ \u001b[1;31mFailed\u001b[0m  ]\n",
      "AddSample: Reading PythiaResonanceMass1800_width5 (['PythiaChargedResonance_WGToLNu_M1800_width5'])  [ \u001b[1;31mFailed\u001b[0m  ]\n",
      "AddSample: Reading PythiaResonanceMass2000_width0p01 (['PythiaChargedResonance_WGToLNu_M2000_width0p01'])  [ \u001b[1;31mFailed\u001b[0m  ]\n",
      "AddSample: Reading PythiaResonanceMass2000_width5 (['PythiaChargedResonance_WGToLNu_M2000_width5'])  [ \u001b[1;31mFailed\u001b[0m  ]\n",
      "AddSample: Reading PythiaResonanceMass2200_width0p01 (['PythiaChargedResonance_WGToLNu_M2200_width0p01'])  [ \u001b[1;31mFailed\u001b[0m  ]\n",
      "AddSample: Reading PythiaResonanceMass2200_width5 (['PythiaChargedResonance_WGToLNu_M2200_width5'])  [ \u001b[1;31mFailed\u001b[0m  ]\n",
      "AddSample: Reading PythiaResonanceMass2400_width0p01 (['PythiaChargedResonance_WGToLNu_M2400_width0p01'])  [ \u001b[1;31mFailed\u001b[0m  ]\n",
      "AddSample: Reading PythiaResonanceMass2400_width5 (['PythiaChargedResonance_WGToLNu_M2400_width5'])  [ \u001b[1;31mFailed\u001b[0m  ]\n",
      "AddSample: Reading PythiaResonanceMass2600_width0p01 (['PythiaChargedResonance_WGToLNu_M2600_width0p01'])  [ \u001b[1;31mFailed\u001b[0m  ]\n",
      "AddSample: Reading PythiaResonanceMass2800_width0p01 (['PythiaChargedResonance_WGToLNu_M2800_width0p01'])  [ \u001b[1;31mFailed\u001b[0m  ]\n",
      "AddSample: Reading PythiaResonanceMass2800_width5 (['PythiaChargedResonance_WGToLNu_M2800_width5'])  [ \u001b[1;31mFailed\u001b[0m  ]\n",
      "AddSample: Reading PythiaResonanceMass3000_width0p01 (['PythiaChargedResonance_WGToLNu_M3000_width0p01'])  [ \u001b[1;31mFailed\u001b[0m  ]\n",
      "AddSample: Reading PythiaResonanceMass3500_width0p01 (['PythiaChargedResonance_WGToLNu_M3500_width0p01'])  [ \u001b[1;31mFailed\u001b[0m  ]\n",
      "AddSample: Reading PythiaResonanceMass3500_width5 (['PythiaChargedResonance_WGToLNu_M3500_width5'])  [ \u001b[1;31mFailed\u001b[0m  ]\n",
      "AddSample: Reading PythiaResonanceMass4000_width0p01 (['PythiaChargedResonance_WGToLNu_M4000_width0p01'])  [ \u001b[1;31mFailed\u001b[0m  ]\n",
      "AddSample: Reading PythiaResonanceMass4000_width5 (['PythiaChargedResonance_WGToLNu_M4000_width5'])  [ \u001b[1;31mFailed\u001b[0m  ]\n",
      "WARNING - Child sample, SingleMuon, does not exist!\n",
      "Grouping Data\n",
      "Grouping Z+jets\n",
      "Grouping Zgamma\n",
      "Grouping Wgamma\n",
      "Grouping WgammaLO\n",
      "Grouping Wjets\n",
      "Grouping TTG\n",
      "Grouping GJets\n",
      "Grouping GammaGamma\n",
      "Grouping TTbar_DiLep\n",
      "Grouping TTbar_SingleLep\n",
      "Grouping AllTop\n",
      "Grouping MCBackground\n",
      "Grouping MCBackgroundLO\n",
      "Grouping JetBackground\n",
      "Grouping EleFakeBackground\n",
      "Samples ready.\n",
      "\n",
      "The draw syntax follows that of TTree.Draw.  Examples : \n",
      "samples.Draw('met_et', 'EventWeight && passcut_ee==1', '(300, 0, 300)'\n",
      "\n",
      "The first argument is a branch in the tree to draw\n",
      "The second argument is a set of cuts and/or weights to apply\n",
      "The third argument are the bin limits to use \n",
      "\n",
      "To see all available branches do ListBranches()\n"
     ]
    }
   ],
   "source": [
    "%run interactiveStackTree.py --baseDir /data/users/jkunkle/Resonances/LepGamma_elg_2018_03_28/ --samplesConf Modules/Resonance.py --xsFile cross_sections/photon15.py --lumi 35900. --treeName UMDNTuple/EventTree --fileName tree.root\n"
   ]
  },
  {
   "cell_type": "code",
   "execution_count": 3,
   "metadata": {
    "collapsed": true
   },
   "outputs": [],
   "source": [
    "base = 'ph_n>=1 && el_n==1'\n",
    "baseeta = base + ' && abs(ph_eta[0])<1.4'\n",
    "a3 = '&& ph_passEleVeto[0]==1' #CSEV\n",
    "b3 = '&& ph_passEleVeto[0]==0' \n",
    "a4 = '&& ph_hasPixSeed[0]==0'  #Pixel seed\n",
    "b4 = '&& ph_hasPixSeed[0]==1'\n",
    "\n",
    "xbin = range(0,50,2)+[50,52,54,60,65,75,80]\n",
    "hist_config = {'colors' : [ROOT.kRed, ROOT.kBlack], 'doratio' : 1,'xlabel':'MET','rlabel':'red/black' , 'normalize':1}"
   ]
  },
  {
   "cell_type": "markdown",
   "metadata": {},
   "source": [
    "## Fill and plot histogram"
   ]
  },
  {
   "cell_type": "code",
   "execution_count": 4,
   "metadata": {
    "collapsed": false
   },
   "outputs": [
    {
     "name": "stdout",
     "output_type": "stream",
     "text": [
      "Case when multiple vars is used is not implemented\n",
      "Creating hist for met_pt\n",
      "met_pt : ph_n>=1 && el_n==1 && abs(ph_eta[0])<1.4&& ph_hasPixSeed[0]==0 \n",
      "[0, 2, 4, 6, 8, 10, 12, 14, 16, 18, 20, 22, 24, 26, 28, 30, 32, 34, 36, 38, 40, 42, 44, 46, 48, 50, 52, 54, 60, 65, 75, 80]\n",
      "Draw grouped hist DYJetsToLL_M-50\n",
      "Creating hist for DYJetsToLL_M-50\n",
      "met_pt : ph_n>=1 && el_n==1 && abs(ph_eta[0])<1.4&& ph_hasPixSeed[0]==0 \n",
      "[0, 2, 4, 6, 8, 10, 12, 14, 16, 18, 20, 22, 24, 26, 28, 30, 32, 34, 36, 38, 40, 42, 44, 46, 48, 50, 52, 54, 60, 65, 75, 80]\n",
      "Scale DYJetsToLL_M-50 by 4.211637\n",
      "RUN GROUPING FOR met_pt\n",
      "['DYJetsToLL_M-50']\n",
      "Scale met_pt by 1.000000\n",
      "Creating hist for met_pt_0\n",
      "met_pt : ph_n>=1 && el_n==1 && abs(ph_eta[0])<1.4&& ph_hasPixSeed[0]==1 \n",
      "[0, 2, 4, 6, 8, 10, 12, 14, 16, 18, 20, 22, 24, 26, 28, 30, 32, 34, 36, 38, 40, 42, 44, 46, 48, 50, 52, 54, 60, 65, 75, 80]\n",
      "Draw grouped hist DYJetsToLL_M-50\n",
      "Creating hist for DYJetsToLL_M-50\n",
      "met_pt : ph_n>=1 && el_n==1 && abs(ph_eta[0])<1.4&& ph_hasPixSeed[0]==1 \n",
      "[0, 2, 4, 6, 8, 10, 12, 14, 16, 18, 20, 22, 24, 26, 28, 30, 32, 34, 36, 38, 40, 42, 44, 46, 48, 50, 52, 54, 60, 65, 75, 80]\n",
      "Scale DYJetsToLL_M-50 by 4.211637\n",
      "RUN GROUPING FOR met_pt_0\n",
      "['DYJetsToLL_M-50']\n",
      "Scale met_pt_0 by 1.000000\n",
      "Scale ratioZ+jets by 1.000000\n",
      "[<SampleManager.Sample instance at 0x7f112d513758>, <SampleManager.Sample instance at 0x7f112d5e7290>]\n",
      "WARNING : Found zero samples matching criteria!  Sample matching criteria were : \n",
      "{'name': '__AllStack__'}\n",
      "WARNING : Found zero samples matching criteria!  Sample matching criteria were : \n",
      "{'name': [], 'isActive': True}\n",
      "0.04\n"
     ]
    },
    {
     "name": "stderr",
     "output_type": "stream",
     "text": [
      "Error in <TGClient::TGClient>: can't open display \"\", switching to batch mode...\n",
      " In case you run from a remote ssh session, reconnect with ssh -Y\n"
     ]
    }
   ],
   "source": [
    "samples.CompareSelections(['met_pt']*2, [baseeta+a4, baseeta+b4] ,['Z+jets']*2, xbin,\\\n",
    "                          hist_config,{},{'legend_entries':['pass: fakes','fail: electron']}  )\n",
    "samples.curr_canvases['top'].cd()\n",
    "samples.samples[-2].hist.GetYaxis().UnZoom()\n",
    "ROOT.gPad.Modified()\n",
    "ROOT.gPad.Update()"
   ]
  },
  {
   "cell_type": "code",
   "execution_count": 5,
   "metadata": {
    "collapsed": false
   },
   "outputs": [
    {
     "data": {
      "image/png": "[encoded data removed]",
      "text/plain": [
       "<ROOT.TCanvas object (\"basecan\") at 0xa7d0e70>"
      ]
     },
     "execution_count": 5,
     "metadata": {},
     "output_type": "execute_result"
    },
    {
     "name": "stderr",
     "output_type": "stream",
     "text": [
      "Info in <TCanvas::Print>: png file /tmp/tmpU9fcGI.png has been created\n"
     ]
    }
   ],
   "source": [
    "samples.curr_canvases['base']\n"
   ]
  },
  {
   "cell_type": "markdown",
   "metadata": {},
   "source": [
    "|          |MET<25     |MET>25     |\n",
    "|----------|-----------|-----------|\n",
    "|pass eVeto|A          |Signal|\n",
    "|fail eVeto|B     | D    |"
   ]
  },
  {
   "cell_type": "markdown",
   "metadata": {},
   "source": [
    "## Fitting"
   ]
  },
  {
   "cell_type": "markdown",
   "metadata": {},
   "source": [
    "We now try to fit the ratio histogram found above with a 2-polynomial/ quadratic. That way we measure the weights needed to correct for the biases \n",
    "\n",
    "The chi square fit minimizes\n",
    "\n",
    "$$S = \\sum\\frac{(y-y_{0})^{2}}{\\sigma_{y}^{2}}$$\n",
    "\n",
    "\n",
    "The likelihood fit tries to minimize what is the log of likelihood ratio\n",
    "\n",
    "$$S= -2 \\frac{log(L_{0})}{log(L)}$$"
   ]
  },
  {
   "cell_type": "code",
   "execution_count": 6,
   "metadata": {
    "collapsed": true
   },
   "outputs": [],
   "source": [
    "samples.curr_canvases[\"same\"].cd()\n",
    "h = samples.samples[-1].hist\n",
    "h.Draw()\n",
    "h.GetXaxis().SetTitleSize(0.05)\n",
    "h.GetYaxis().SetTitleSize(0.05)\n",
    "h.GetYaxis().SetTitleOffset(1)\n",
    "h.GetYaxis().SetLabelSize(0.05)\n",
    "h.GetXaxis().SetLabelSize(0.05)\n",
    "ROOT.gStyle.SetOptFit(1)\n",
    "h.SetStats(1)"
   ]
  },
  {
   "cell_type": "code",
   "execution_count": 7,
   "metadata": {
    "collapsed": false
   },
   "outputs": [
    {
     "data": {
      "text/plain": [
       "<ROOT.TFitResultPtr object at 0xa8fa100>"
      ]
     },
     "execution_count": 7,
     "metadata": {},
     "output_type": "execute_result"
    },
    {
     "name": "stdout",
     "output_type": "stream",
     "text": [
      "\n",
      "****************************************\n",
      "Minimizer is Linear\n",
      "Chi2                      =      31.1677\n",
      "NDf                       =           28\n",
      "p0                        =     0.923682   +/-   0.0128222   \n",
      "p1                        =  0.000196403   +/-   0.000870302 \n",
      "p2                        =  6.97925e-05   +/-   1.27331e-05 \n"
     ]
    }
   ],
   "source": [
    "h.Fit(\"pol2\",\"S\")"
   ]
  },
  {
   "cell_type": "code",
   "execution_count": 8,
   "metadata": {
    "collapsed": false
   },
   "outputs": [
    {
     "data": {
      "image/png": "[encoded data removed]",
      "text/plain": [
       "<ROOT.TCanvas object (\"same\") at 0xa0d5b10>"
      ]
     },
     "execution_count": 8,
     "metadata": {},
     "output_type": "execute_result"
    },
    {
     "name": "stderr",
     "output_type": "stream",
     "text": [
      "Info in <TCanvas::Print>: png file /tmp/tmp0d2LqA.png has been created\n"
     ]
    }
   ],
   "source": [
    "h.GetYaxis().UnZoom()\n",
    "samples.curr_canvases[\"same\"].Modified()\n",
    "samples.curr_canvases[\"same\"].Update()\n",
    "samples.curr_canvases[\"same\"]"
   ]
  },
  {
   "cell_type": "code",
   "execution_count": 9,
   "metadata": {
    "collapsed": false
   },
   "outputs": [
    {
     "data": {
      "text/plain": [
       "<ROOT.TFitResultPtr object at 0xa923bb0>"
      ]
     },
     "execution_count": 9,
     "metadata": {},
     "output_type": "execute_result"
    },
    {
     "name": "stdout",
     "output_type": "stream",
     "text": [
      " FCN=0.01422 FROM MIGRAD    STATUS=CONVERGED      62 CALLS          63 TOTAL\n",
      "                     EDM=5.56105e-10    STRATEGY= 1      ERROR MATRIX ACCURATE \n",
      "  EXT PARAMETER                                   STEP         FIRST   \n",
      "  NO.   NAME      VALUE            ERROR          SIZE      DERIVATIVE \n",
      "   1  p0           9.33876e-01   4.80809e-01   8.98209e-05   9.80082e-05\n",
      "   2  p1          -9.05486e-04   3.09352e-02   2.50453e-06   1.44034e-03\n",
      "   3  p2           8.74555e-05   4.27795e-04   4.74199e-08   3.43747e-02\n",
      "                               ERR DEF= 0.5\n"
     ]
    }
   ],
   "source": [
    "h.Fit(\"pol2\",\"SL\")"
   ]
  },
  {
   "cell_type": "code",
   "execution_count": 10,
   "metadata": {
    "collapsed": false
   },
   "outputs": [
    {
     "data": {
      "image/png": "[encoded data removed]",
      "text/plain": [
       "<ROOT.TCanvas object (\"same\") at 0xa0d5b10>"
      ]
     },
     "execution_count": 10,
     "metadata": {},
     "output_type": "execute_result"
    },
    {
     "name": "stderr",
     "output_type": "stream",
     "text": [
      "Info in <TCanvas::Print>: png file /tmp/tmpAXpX_P.png has been created\n"
     ]
    }
   ],
   "source": [
    "h.GetYaxis().UnZoom()\n",
    "samples.curr_canvases[\"same\"].Modified()\n",
    "samples.curr_canvases[\"same\"].Update()\n",
    "samples.curr_canvases[\"same\"]\n"
   ]
  },
  {
   "cell_type": "code",
   "execution_count": null,
   "metadata": {
    "collapsed": true
   },
   "outputs": [],
   "source": []
  }
 ],
 "metadata": {
  "kernelspec": {
   "display_name": "Python 2",
   "language": "python",
   "name": "python2"
  },
  "language_info": {
   "codemirror_mode": {
    "name": "ipython",
    "version": 2
   },
   "file_extension": ".py",
   "mimetype": "text/x-python",
   "name": "python",
   "nbconvert_exporter": "python",
   "pygments_lexer": "ipython2",
   "version": "2.7.11"
  }
 },
 "nbformat": 4,
 "nbformat_minor": 2
}
