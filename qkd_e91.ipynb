{
  "cells": [
    {
      "cell_type": "markdown",
      "metadata": {
        "id": "view-in-github",
        "colab_type": "text"
      },
      "source": [
        "<a href=\"https://colab.research.google.com/github/sjabeen/UMD-FIRE-QML/blob/master/qkd_e91.ipynb\" target=\"_parent\"><img src=\"https://colab.research.google.com/assets/colab-badge.svg\" alt=\"Open In Colab\"/></a>"
      ]
    },
    {
      "cell_type": "markdown",
      "id": "c6d22582",
      "metadata": {
        "id": "c6d22582"
      },
      "source": [
        "## Quantum Key Distribution using entangled pairs"
      ]
    },
    {
      "cell_type": "markdown",
      "id": "011da8a7",
      "metadata": {
        "id": "011da8a7"
      },
      "source": [
        "The E91 protocol developed by Artur Ekert in 1991 is based on the use of entangled states and Bell's theorem. Two electrons A and B can be prepared in states that they can not be considered separately from each other. One of these states is the singlet state where the spins of the electrons face opposite directions.\n",
        "$$|\\psi\\rangle_s=\\frac{1}{\\sqrt{2}}( |\\uparrow\\rangle_A \\otimes |\\downarrow\\rangle_B - |\\downarrow\\rangle_A \\otimes |\\uparrow\\rangle_B )= \\frac{1}{\\sqrt{2}} (|\\uparrow\\downarrow\\rangle - |\\downarrow\\uparrow\\rangle)$$\n",
        "The singlet state is asymmetric with exchange of both electrons and the total spin is zero."
      ]
    },
    {
      "cell_type": "code",
      "execution_count": null,
      "id": "75bf1981",
      "metadata": {
        "id": "75bf1981"
      },
      "outputs": [],
      "source": [
        "import os, time, random\n",
        "import numpy as np\n",
        "\n",
        "from qiskit import QuantumCircuit, QuantumRegister, ClassicalRegister, Aer, transpile, assemble\n",
        "from qiskit.visualization import plot_histogram\n",
        "from qiskit.providers.jobstatus import JobStatus\n",
        "try:\n",
        "    from qiskit_ionq import IonQProvider\n",
        "except (ImportError):\n",
        "    print(\"Installing qiskit_ionq ...\")\n",
        "    !pip install --quiet cirq_ionq\n",
        "    from qiskit_ionq import IonQProvider\n",
        "\n",
        "#get access to IonQ provider (token required)\n",
        "try:\n",
        "    ionq_token=os.getenv('IONQ_API_TOKEN')\n",
        "except:\n",
        "except:\n",
        "    ionq_token = \"unknown\"  # <<<< replace \"unknown\" with your IonQ API token!!!\n",
        "    if ionq_token == \"unknown\":\n",
        "        ionq_token = input(\"IonQ API token:\")\n",
        "provider = IonQProvider(ionq_token)\n",
        "\n",
        "# create backends for simulator and hardware\n",
        "aer_sim = Aer.get_backend(\"aer_simulator\")\n",
        "ionq_sim = provider.get_backend(\"ionq_simulator\")\n",
        "ionq_qpu = provider.get_backend(\"ionq_qpu\")\n",
        "\n",
        "########################\n",
        "#first a simple function to draw the circuit and run it nshots times\n",
        "#  (for IonQ hardware wait up to max_wait_minutes to get the job processed in the queue)\n",
        "\n",
        "def draw_and_run(qc, backend=aer_sim, nshots=1000, max_wait_minutes=10):\n",
        "    display(qc.draw('mpl'))\n",
        "    job = backend.run(qc, shots=nshots)\n",
        "    # jobs are either run locally (AER) or submitted to IonQ\n",
        "    # if it takes too long get the job done on IonQ hardware, stop it\n",
        "    if backend == ionq_qpu:\n",
        "        while job.status() is not JobStatus.DONE:\n",
        "            time.sleep(60)\n",
        "            print(\"Job status is\", job.status())\n",
        "            if job.status() is JobStatus.ERROR:\n",
        "                print(\"Error running job on IonQ hardware\")\n",
        "                return\n",
        "            max_wait_minutes -= 1\n",
        "            if max_wait_minutes == 0:\n",
        "                print(\"It takes too long to get job started on IonQ hardware\")\n",
        "                return\n",
        "\n",
        "    cnts = job.result().get_counts()\n",
        "    allstates = []\n",
        "    for j in range(2**qc.num_qubits):\n",
        "        allstates.append(bin(j)[2:].zfill(qc.num_qubits))\n",
        "    for j in allstates:\n",
        "        if j not in cnts.keys():\n",
        "            cnts[j] = 0\n",
        "    counts = {k:cnts[k] for k in allstates}\n",
        "    display(plot_histogram(counts))"
      ]
    },
    {
      "cell_type": "markdown",
      "id": "49e40695",
      "metadata": {
        "id": "49e40695"
      },
      "source": [
        "The singlet state is realized by this Bell state:"
      ]
    },
    {
      "cell_type": "code",
      "execution_count": null,
      "id": "dc56e2a8",
      "metadata": {
        "id": "dc56e2a8"
      },
      "outputs": [],
      "source": [
        "#antisymmetric singlet state:\n",
        "qc = QuantumCircuit(2,2)\n",
        "qc.x([0,1])\n",
        "qc.h(0)\n",
        "qc.cx(0,1)\n",
        "qc.measure([0,1],[0,1])\n",
        "draw_and_run(qc, ionq_sim)"
      ]
    },
    {
      "cell_type": "markdown",
      "id": "4a419edc",
      "metadata": {
        "id": "4a419edc"
      },
      "source": [
        "To implement the E91 quantum key distribution protocol, there must be a source of qubits prepared in the singlet state. It does not matter to whom this source belongs: to Alice, to Bob, to a trusted third-party Charlie or even to eavesdropper Eve. One qubit is (sent to and) measured by Alice, the other (sent to and) measured by Bob.\n",
        "\n",
        "Each party chooses a random event-by-event basis for the measurement of the spin projection of her/his qubit in the following directions:\n",
        "\n",
        "$$ \\mbox{Alice:} \\qquad \\qquad \\vec{a}_1=\\left(\\begin{array}{c}1 \\\\ 0 \\\\ 0\\end{array}\\right) \\quad \\mbox{(X observable)} ;\n",
        "\\qquad \\vec{a}_2=\\frac{1}{\\sqrt{2}}\\left(\\begin{array}{c}1 \\\\ 0 \\\\ 1\\end{array}\\right) \\quad \\mbox{(W observable)} ;\n",
        "\\qquad \\vec{a}_3=\\left(\\begin{array}{c}0 \\\\ 0 \\\\ 1\\end{array}\\right) \\quad \\mbox{(Z observable)} $$\n",
        "\n",
        "$$ \\mbox{Bob:} \\qquad \\vec{b}_1=\\frac{1}{\\sqrt{2}}\\left(\\begin{array}{c}1 \\\\ 0 \\\\ 1\\end{array}\\right) \\quad \\mbox{(W observable)} ;\n",
        "\\qquad \\vec{b}_2=\\left(\\begin{array}{c}0 \\\\ 0 \\\\ 1\\end{array}\\right) \\quad \\mbox{(Z observable)} ;\n",
        "\\qquad \\vec{b}_3=\\frac{1}{\\sqrt{2}}\\left(\\begin{array}{c}-1 \\\\ 0 \\\\ 1\\end{array}\\right) \\quad \\mbox{(V observable)} $$\n",
        "<div>\n",
        "<img src=\"attachment:Screen%20Shot%202022-10-29%20at%204.17.29%20PM.png\" width=\"400\">\n",
        "</div>\n",
        "Any time that Alice measured in $\\vec{a}_3$ direction and Bob measured in $\\vec{b}_2$ direction, they must get the opposite projection result; same for Alice measuring along $\\vec{a}_2$ and Bob measuring along $\\vec{b}_1$."
      ]
    },
    {
      "cell_type": "code",
      "execution_count": null,
      "id": "9fcf97b7",
      "metadata": {
        "id": "9fcf97b7"
      },
      "outputs": [],
      "source": [
        "# Creating registers (2 additional classical registers to include Eve's measurements)\n",
        "qr = QuantumRegister(2, name=\"qr\")\n",
        "cr = ClassicalRegister(4, name=\"cr\")\n",
        "\n",
        "####################\n",
        "# Charlie's device creating a singlet state\n",
        "singlet = QuantumCircuit(qr, cr)\n",
        "singlet.x([0,1])\n",
        "singlet.h(0)\n",
        "singlet.cx(0,1)\n",
        "\n",
        "###################\n",
        "# Alice's measurement circuits\n",
        "\n",
        "# measure the spin projection of Alice's qubit onto the a_1 direction (X basis)\n",
        "measureA1 = QuantumCircuit(qr, cr, name='measureA1')\n",
        "measureA1.h(qr[0])\n",
        "measureA1.measure(qr[0],cr[0])\n",
        "\n",
        "# measure the spin projection of Alice's qubit onto the a_2 direction (W basis)\n",
        "measureA2 = QuantumCircuit(qr, cr, name='measureA2')\n",
        "measureA2.s(qr[0])\n",
        "measureA2.h(qr[0])\n",
        "measureA2.t(qr[0])\n",
        "measureA2.h(qr[0])\n",
        "measureA2.measure(qr[0],cr[0])\n",
        "\n",
        "# measure the spin projection of Alice's qubit onto the a_3 direction (standard Z basis)\n",
        "measureA3 = QuantumCircuit(qr, cr, name='measureA3')\n",
        "measureA3.measure(qr[0],cr[0])\n",
        "\n",
        "###########\n",
        "# Bob's measurement circuits\n",
        "\n",
        "# measure the spin projection of Bob's qubit onto the b_1 direction (W basis)\n",
        "measureB1 = QuantumCircuit(qr, cr, name='measureB1')\n",
        "measureB1.s(qr[1])\n",
        "measureB1.h(qr[1])\n",
        "measureB1.t(qr[1])\n",
        "measureB1.h(qr[1])\n",
        "measureB1.measure(qr[1],cr[1])\n",
        "\n",
        "# measure the spin projection of Bob's qubit onto the b_2 direction (standard Z basis)\n",
        "measureB2 = QuantumCircuit(qr, cr, name='measureB2')\n",
        "measureB2.measure(qr[1],cr[1])\n",
        "\n",
        "# measure the spin projection of Bob's qubit onto the b_3 direction (V basis)\n",
        "measureB3 = QuantumCircuit(qr, cr, name='measureB3')\n",
        "measureB3.s(qr[1])\n",
        "measureB3.h(qr[1])\n",
        "measureB3.tdg(qr[1])\n",
        "measureB3.h(qr[1])\n",
        "measureB3.measure(qr[1],cr[1])\n",
        "\n",
        "## Lists of measurement circuits\n",
        "aliceMeasurements = [measureA1, measureA2, measureA3]\n",
        "bobMeasurements = [measureB1, measureB2, measureB3]\n"
      ]
    },
    {
      "cell_type": "markdown",
      "id": "cb4a2ae6",
      "metadata": {
        "id": "cb4a2ae6"
      },
      "source": [
        "Suppose Alice and Bob want to generate a secret key using N singlet states prepared by Charlie.<br>\n",
        "They must choose the directions onto which they will measure the spin projections of their qubits. To do this, Alice and Bob create 'bases' lists with randomly generated elements."
      ]
    },
    {
      "cell_type": "code",
      "execution_count": null,
      "id": "d153cf4f",
      "metadata": {
        "id": "d153cf4f"
      },
      "outputs": [],
      "source": [
        "nSinglets = 30\n",
        "basesA = [random.randint(1, 3) for i in range(nSinglets)]\n",
        "basesB = [random.randint(1, 3) for i in range(nSinglets)]\n",
        "#combine Charlie's device and Alice's and Bob's detectors into one circuit\n",
        "circuits=[]\n",
        "for j in range(nSinglets):\n",
        "    # create the name of the j-th circuit depending on Alice's and Bob's measurement choices\n",
        "    circName = 'Circ' + str(j) + '_A' + str(basesA[j]) + '_B' + str(basesB[j])\n",
        "\n",
        "    # create the joint measurement circuit\n",
        "    # add Alice's and Bob's measurement circuits to the singlet state curcuit\n",
        "    circ = singlet.copy(name=circName)\n",
        "    circ = circ.compose(aliceMeasurements[basesA[j]-1])\n",
        "    circ = circ.compose(bobMeasurements[basesB[j]-1])\n",
        "\n",
        "    # add the created circuit to the circuits list\n",
        "    circuits.append(circ)\n",
        "print(\"Created {} circuits\".format(len(circuits)))"
      ]
    },
    {
      "cell_type": "code",
      "execution_count": null,
      "id": "24d3c05c",
      "metadata": {
        "id": "24d3c05c"
      },
      "outputs": [],
      "source": [
        "for j in [0, -1]:\n",
        "    print(\"Circuit {}:\".format(circuits[j].name))\n",
        "    display(draw_and_run(circuits[j]))"
      ]
    },
    {
      "cell_type": "code",
      "execution_count": null,
      "id": "a4a2c017",
      "metadata": {
        "id": "a4a2c017"
      },
      "outputs": [],
      "source": [
        "# select backend and execute circuits\n",
        "# function returns list of measurement results\n",
        "def run_jobs(qcircuits, backend=aer_sim, max_wait_minutes=10):\n",
        "    joblist = []\n",
        "    outcome = []\n",
        "    for qc in qcircuits:\n",
        "        joblist.append(backend.run(qc, shots=1))\n",
        "\n",
        "    # get the results\n",
        "    for job in joblist:\n",
        "        # jobs are either run locally (AER) or submitted to IonQ\n",
        "        # if it takes too long get the job done on IonQ hardware, stop it\n",
        "        if backend == ionq_qpu:\n",
        "            while job.status() is not JobStatus.DONE:\n",
        "                time.sleep(60)\n",
        "                print(\"Job status is\", job.status())\n",
        "                if job.status() is JobStatus.ERROR:\n",
        "                    print(\"Error running job on IonQ hardware\")\n",
        "                    return outcome\n",
        "                max_wait_minutes -= 1\n",
        "                if max_wait_minutes == 0:\n",
        "                    print(\"It takes too long to get job started on IonQ hardware\")\n",
        "                    return outcome\n",
        "        res = job.result().get_counts()\n",
        "        outcome.append(list(res.keys())[0] if isinstance(res, dict) else str(res))\n",
        "    return outcome"
      ]
    },
    {
      "cell_type": "code",
      "execution_count": null,
      "id": "74ffe3dc",
      "metadata": {
        "id": "74ffe3dc"
      },
      "outputs": [],
      "source": [
        "results = run_jobs(circuits)\n",
        "\n",
        "aliceResults = []\n",
        "bobResults = []\n",
        "for res in results:\n",
        "    resB,resA = res[-2:-1],res[-1:]\n",
        "    #print(res,resA,resB)\n",
        "    bobResults.append(1 if resB == '1' else -1)\n",
        "    aliceResults.append(1 if resA == '1' else -1)\n",
        "\n",
        "if nSinglets < 65:\n",
        "    print(\"Alice's results:\",aliceResults)\n",
        "    print(\"Bob's results:  \",bobResults)"
      ]
    },
    {
      "cell_type": "code",
      "execution_count": null,
      "id": "0fb7ed93",
      "metadata": {
        "id": "0fb7ed93"
      },
      "outputs": [],
      "source": [
        "aliceKey = [] # Alice's key string k\n",
        "bobKey = [] # Bob's key string k'\n",
        "\n",
        "# comparing the stings with measurement choices\n",
        "for i in range(len(results)):\n",
        "    # if Alice and Bob have measured the spin projections onto the a_2,b_1 or a_3,b_2 directions\n",
        "    if (basesA[i] == 2 and basesB[i] == 1) or (basesA[i] == 3 and basesB[i] == 2):\n",
        "        aliceKey.append(aliceResults[i]) # record the i-th result obtained by Alice as the bit of the secret key k\n",
        "        bobKey.append(-bobResults[i]) # record the multiplied by -1 i-th result obtained Bob as the bit of the secret key k'\n",
        "\n",
        "# length of the secret key\n",
        "keyLength = len(aliceKey)\n",
        "# number of mismatching bits in Alice's and Bob's keys\n",
        "KeyMismatches = 0\n",
        "for j in range(keyLength):\n",
        "    if aliceKey[j] != bobKey[j]:\n",
        "        KeyMismatches += 1"
      ]
    },
    {
      "cell_type": "markdown",
      "id": "16426b94",
      "metadata": {
        "id": "16426b94"
      },
      "source": [
        "<h3>The CHSH correlation value</h3>\n",
        "\n",
        "Alice and Bob want to be sure that there was no interference in the communication session. To do that, they calculate the CHSH correlation value using the results obtained after the measurements of spin projections\n",
        "onto the $(\\vec{a}_1,\\vec{b}_1), (\\vec{a}_1,\\vec{b}_3), (\\vec{a}_3,\\vec{b}_1)$ and $(\\vec{a}_3,\\vec{b}_3)$ directions.\n",
        "This is equivalent to the measurement of the observables $X\\otimes W, X\\otimes V, Z\\otimes W, Z\\otimes V$, resp.\n",
        "\n",
        "The expectation value for the joint measurement of the observables A and B is given by:\n",
        "$$\\langle A\\otimes B\\rangle_\\psi =\\sum_{j,k} a_j b_k P(A\\models a_j, B\\models b_k) = \\sum_{j,k} a_j b_k P_\\psi(a_j,b_k) , $$\n",
        "where $P_\\psi(A\\models a_j)$ is the probability of obtainig the result $a_j$ when measuring the observable A for the state $|\\psi\\rangle$.\n",
        "\n",
        "Here, A and B are spin projection observables, so the corresponding eigenvalues are $a_j,b_k=\\pm 1$,\n",
        "to the expectation value becomes\n",
        "$$\\langle A(a_j)\\otimes B(b_k)\\rangle_\\psi = P(-1,-1) - P(-1,1) - P(1,-1) + P(1,1)$$\n",
        "\n",
        "\n",
        "\n",
        "\n"
      ]
    },
    {
      "cell_type": "code",
      "execution_count": null,
      "id": "0d2a4c98",
      "metadata": {
        "id": "0d2a4c98"
      },
      "outputs": [],
      "source": [
        "# function that calculates CHSH correlation value\n",
        "def chsh_corr(results):\n",
        "\n",
        "    # lists with the counts of measurement results\n",
        "    # each element represents the number of (-1,-1), (-1,1), (1,-1) and (1,1) results respectively\n",
        "    patterns = ['00','01','10','11']\n",
        "    countA1B1 = [0, 0, 0, 0] # XW observable\n",
        "    countA1B3 = [0, 0, 0, 0] # XV observable\n",
        "    countA3B1 = [0, 0, 0, 0] # ZW observable\n",
        "    countA3B3 = [0, 0, 0, 0] # ZV observable\n",
        "\n",
        "    for i,res in enumerate(results):\n",
        "        resBA = res[-2:]\n",
        "        ind = patterns.index(resBA)\n",
        "        # if the spins of the qubits of the i-th singlet were projected onto the a_1/b_1 directions\n",
        "        if (basesA[i] == 1 and basesB[i] == 1):\n",
        "            countA1B1[ind] += 1\n",
        "        elif (basesA[i] == 1 and basesB[i] == 3):\n",
        "            countA1B3[ind] += 1\n",
        "        elif (basesA[i] == 3 and basesB[i] == 1):\n",
        "            countA3B1[ind] += 1\n",
        "        # if the spins of the qubits of the i-th singlet were projected onto the a_3/b_3 directions\n",
        "        elif (basesA[i] == 3 and basesB[i] == 3):\n",
        "            countA3B3[ind] += 1\n",
        "\n",
        "    # expectation values of XW, XV, ZW and ZV observables\n",
        "    expect11 = (countA1B1[0] - countA1B1[1] - countA1B1[2] + countA1B1[3])/sum(countA1B1) # -1/sqrt(2)\n",
        "    expect13 = (countA1B3[0] - countA1B3[1] - countA1B3[2] + countA1B3[3])/sum(countA1B3) # 1/sqrt(2)\n",
        "    expect31 = (countA3B1[0] - countA3B1[1] - countA3B1[2] + countA3B1[3])/sum(countA3B1) # -1/sqrt(2)\n",
        "    expect33 = (countA3B3[0] - countA3B3[1] - countA3B3[2] + countA3B3[3])/sum(countA3B3) # -1/sqrt(2)\n",
        "\n",
        "    corr = expect11 - expect13 - expect31 + expect33 # calculate the CHSC correlation value (3)\n",
        "\n",
        "    return corr"
      ]
    },
    {
      "cell_type": "code",
      "execution_count": null,
      "id": "2b683a9b",
      "metadata": {
        "id": "2b683a9b"
      },
      "outputs": [],
      "source": [
        "corr = chsh_corr(results) # CHSH correlation value\n",
        "\n",
        "# CHSH inequality test\n",
        "print('CHSH correlation value: {}  (expected: -{})\\n'.format(round(corr,3), round(2*np.sqrt(2),3)))\n",
        "\n",
        "# Keys\n",
        "print('Length of the key: ' + str(keyLength))\n",
        "print('Number of mismatching bits: ' + str(KeyMismatches))"
      ]
    },
    {
      "cell_type": "markdown",
      "id": "0b1a4fd3",
      "metadata": {
        "id": "0b1a4fd3"
      },
      "source": [
        "<h2>E91 with interception</h2>"
      ]
    },
    {
      "cell_type": "code",
      "execution_count": null,
      "id": "a11a2604",
      "metadata": {
        "id": "a11a2604"
      },
      "outputs": [],
      "source": [
        "# measurement of the spin projection of Alice's qubit onto the a_2 direction (W basis)\n",
        "measureEA2 = QuantumCircuit(qr, cr, name='measureEA2')\n",
        "measureEA2.s(qr[0])\n",
        "measureEA2.h(qr[0])\n",
        "measureEA2.t(qr[0])\n",
        "measureEA2.h(qr[0])\n",
        "measureEA2.measure(qr[0],cr[2])\n",
        "\n",
        "# measurement of the spin projection of Allice's qubit onto the a_3 direction (standard Z basis)\n",
        "measureEA3 = QuantumCircuit(qr, cr, name='measureEA3')\n",
        "measureEA3.measure(qr[0],cr[2])\n",
        "\n",
        "# measurement of the spin projection of Bob's qubit onto the b_1 direction (W basis)\n",
        "measureEB1 = QuantumCircuit(qr, cr, name='measureEB1')\n",
        "measureEB1.s(qr[1])\n",
        "measureEB1.h(qr[1])\n",
        "measureEB1.t(qr[1])\n",
        "measureEB1.h(qr[1])\n",
        "measureEB1.measure(qr[1],cr[3])\n",
        "\n",
        "# measurement of the spin projection of Bob's qubit onto the b_2 direction (standard Z measurement)\n",
        "measureEB2 = QuantumCircuit(qr, cr, name='measureEB2')\n",
        "measureEB2.measure(qr[1],cr[3])\n",
        "\n",
        "# lists of measurement circuits\n",
        "eveMeasurements = [measureEA2, measureEA3, measureEB1, measureEB2]"
      ]
    },
    {
      "cell_type": "code",
      "execution_count": null,
      "id": "e0c45354",
      "metadata": {
        "id": "e0c45354"
      },
      "outputs": [],
      "source": [
        "# list of Eve's measurement choices\n",
        "# 2 elements per row for Eve's measurement of Alice's and Bob's qubits\n",
        "basesE2 = []\n",
        "\n",
        "for j in range(nSinglets):\n",
        "    if random.uniform(0, 1) < 0.5:  # in 50% of cases perform the WW measurement\n",
        "        basesE2.append([0, 2])\n",
        "    else:                           # in 50% of cases perform the ZZ measurement\n",
        "        basesE2.append([1, 3])"
      ]
    },
    {
      "cell_type": "code",
      "execution_count": null,
      "id": "9b998c3f",
      "metadata": {
        "id": "9b998c3f"
      },
      "outputs": [],
      "source": [
        "circuits = [] # the list in which the created circuits will be stored\n",
        "\n",
        "for j in range(nSinglets):\n",
        "    # create the name of the j-th circuit depending on Alice's, Bob's and Eve's choices of measurement\n",
        "    circName = 'Circ'+str(j)+'_A' + str(basesA[j]) + '_B' + str(basesB[j]) + '_E' + str(basesE2[j][0]+1) + str(basesE2[j][1]+1)\n",
        "\n",
        "    # create the joint measurement circuit\n",
        "    # add Alice's and Bob's measurement circuits to the singlet state curcuit\n",
        "    circ = singlet.copy(name=circName)\n",
        "    circ = circ.compose(eveMeasurements[basesE2[j][0]])\n",
        "    circ = circ.compose(eveMeasurements[basesE2[j][1]])\n",
        "    circ = circ.compose(aliceMeasurements[basesA[j]-1])\n",
        "    circ = circ.compose(bobMeasurements[basesB[j]-1])\n",
        "    # add the created circuit to the circuits list\n",
        "    circuits.append(circ)"
      ]
    },
    {
      "cell_type": "code",
      "execution_count": null,
      "id": "16c6634b",
      "metadata": {
        "id": "16c6634b"
      },
      "outputs": [],
      "source": [
        "#results = run_jobs(circuits)\n",
        "\n",
        "aliceResults = []\n",
        "bobResults = []\n",
        "# list of Eve's results: 1st column from measurements of Alice's qubits, 2nd column from Bob's qubits\n",
        "eveResults = []\n",
        "\n",
        "# recording the measurement results\n",
        "patterns = ['00','01','10','11']\n",
        "EveValues = [[-1,-1],[-1,1],[1,-1],[1,1]]\n",
        "for res in results:\n",
        "    resE,resB,resA = res[0:2],res[-2:-1],res[-1:]\n",
        "    #print(res,resE,resA,resB)\n",
        "    bobResults.append(1 if resB == '1' else -1)\n",
        "    aliceResults.append(1 if resA == '1' else -1)\n",
        "    # Eve\n",
        "    ind = patterns.index(resE)\n",
        "    eveResults.append(EveValues[ind])\n",
        "print(aliceResults)\n",
        "print(bobResults)\n",
        "print(eveResults)"
      ]
    },
    {
      "cell_type": "code",
      "execution_count": null,
      "id": "284ac87e",
      "metadata": {
        "id": "284ac87e"
      },
      "outputs": [],
      "source": [
        "aliceKey = [] # Alice's key string a\n",
        "bobKey = [] # Bob's key string a'\n",
        "eveKeys = [] # Eve's keys; the 1-st column is the key of Alice, and the 2-nd is the key of Bob\n",
        "\n",
        "# comparing results with measurement choices\n",
        "for j in range(nSinglets):\n",
        "    # if Alice and Bob measured the spin projections onto the a_2,b_1 or a_3,b_2 directions\n",
        "    if (basesA[j] == 2 and basesB[j] == 1) or (basesA[j] == 3 and basesB[j] == 2):\n",
        "        aliceKey.append(aliceResults[j]) # record the j-th result obtained by Alice as bit of her secret key\n",
        "        bobKey.append(-bobResults[j]) # record Bob's j-th result (multiplied by -1) as bit of his secret key\n",
        "        eveKeys.append([eveResults[j][0], -eveResults[j][1]]) # record the i-th bits of the keys of Eve\n",
        "\n",
        "keyLength = len(aliceKey) # length of the secret key\n",
        "\n",
        "KeyMismatches = 0 # number of mismatching bits in the keys of Alice and Bob\n",
        "EveAKeyMismatches = 0 # number of mismatching bits in the keys of Eve and Alice\n",
        "EveBKeyMismatches = 0 # number of mismatching bits in the keys of Eve and Bob\n",
        "\n",
        "for j in range(keyLength):\n",
        "    if aliceKey[j] != bobKey[j]:\n",
        "        KeyMismatches += 1\n",
        "    if eveKeys[j][0] != aliceKey[j]:\n",
        "        EveAKeyMismatches += 1\n",
        "    if eveKeys[j][1] != bobKey[j]:\n",
        "        EveBKeyMismatches += 1\n",
        "\n",
        "EveAKeyKnowledge = (keyLength - EveAKeyMismatches)/keyLength # Eve's knowledge of Bob's key\n",
        "EveBKeyKnowledge = (keyLength - EveBKeyMismatches)/keyLength # Eve's knowledge of Alice's key"
      ]
    },
    {
      "cell_type": "code",
      "execution_count": null,
      "id": "edf18274",
      "metadata": {
        "id": "edf18274"
      },
      "outputs": [],
      "source": [
        "corr = chsh_corr(results)\n",
        "\n",
        "# CHSH inequality test\n",
        "print(\"CHSH correlation value:  {}  (expected: -{})\\n\".format(round(corr,3), round(2*np.sqrt(2),3)))\n",
        "\n",
        "# Keys\n",
        "print('Length of the key: ' + str(keyLength))\n",
        "print('Number of mismatching bits: ' + str(KeyMismatches) + '\\n')\n",
        "\n",
        "print('Eve\\'s knowledge of Alice\\'s key: {} %'.format(round(EveAKeyKnowledge *100,2)))\n",
        "print('Eve\\'s knowledge of Bob\\'s key:   {} %'.format(round(EveBKeyKnowledge *100,2)))"
      ]
    },
    {
      "cell_type": "code",
      "execution_count": null,
      "id": "3a55e2c1",
      "metadata": {
        "id": "3a55e2c1"
      },
      "outputs": [],
      "source": []
    }
  ],
  "metadata": {
    "kernelspec": {
      "display_name": "Python 3 (ipykernel)",
      "language": "python",
      "name": "python3"
    },
    "language_info": {
      "codemirror_mode": {
        "name": "ipython",
        "version": 3
      },
      "file_extension": ".py",
      "mimetype": "text/x-python",
      "name": "python",
      "nbconvert_exporter": "python",
      "pygments_lexer": "ipython3",
      "version": "3.10.12"
    },
    "colab": {
      "provenance": [],
      "include_colab_link": true
    }
  },
  "nbformat": 4,
  "nbformat_minor": 5
}